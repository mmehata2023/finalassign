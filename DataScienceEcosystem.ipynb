{
 "cells": [
  {
   "cell_type": "markdown",
   "id": "da6b4259",
   "metadata": {},
   "source": [
    "# Data Science Tools and Ecosystem"
   ]
  },
  {
   "cell_type": "markdown",
   "id": "a4907221",
   "metadata": {},
   "source": [
    "In this notebook, Data Science Tools and Ecosystem are summarized."
   ]
  },
  {
   "cell_type": "markdown",
   "id": "7e098257",
   "metadata": {},
   "source": [
    "Objectives:\n",
    "1. List popular languages for Data Science\n",
    "2. List the commonly used library in Data Science\n",
    "3. Three development environment open sources tools used in Data Science\n",
    "4. Write simple arthmatic expression\n",
    "5. Make a table in Markdown"
   ]
  },
  {
   "cell_type": "markdown",
   "id": "e643e5f3",
   "metadata": {},
   "source": [
    "Some of the popular languages that Data Scientists use are:"
   ]
  },
  {
   "cell_type": "code",
   "execution_count": 2,
   "id": "eb86428d",
   "metadata": {},
   "outputs": [
    {
     "name": "stdout",
     "output_type": "stream",
     "text": [
      "1. python\n",
      "2. R-prog\n",
      "3. SQL\n"
     ]
    }
   ],
   "source": [
    "for i, language in enumerate([\"python\", \"R-prog\", \"SQL\"], start=1):\n",
    "    print(f\"{i}. {language}\")"
   ]
  },
  {
   "cell_type": "markdown",
   "id": "028a7686",
   "metadata": {},
   "source": [
    "Some of the commonly used libraries used by Data Scientists include:\n",
    "\n"
   ]
  },
  {
   "cell_type": "code",
   "execution_count": 5,
   "id": "3ae8d22a",
   "metadata": {},
   "outputs": [
    {
     "name": "stdout",
     "output_type": "stream",
     "text": [
      "1. numpy\n",
      "2. MatPlotlib\n",
      "3. Pandas\n"
     ]
    }
   ],
   "source": [
    "for i, library in enumerate([\"numpy\", \"MatPlotlib\", \"Pandas\"], start =1):\n",
    "    print(f\"{i}. {library}\")"
   ]
  },
  {
   "cell_type": "markdown",
   "id": "5fd64c35",
   "metadata": {},
   "source": [
    "Three development environment open source tools used in data science:\n",
    "\n",
    "| Data Science Tools       |\n",
    "|--------------------------|\n",
    "| Jupyter Notebooks        |\n",
    "| R-Studio            |\n",
    "| PyCharm      |"
   ]
  },
  {
   "cell_type": "markdown",
   "id": "4fefb8fb",
   "metadata": {},
   "source": [
    "### Below are a few examples of evaluating arithmetic expressions in Python"
   ]
  },
  {
   "cell_type": "code",
   "execution_count": 7,
   "id": "e0a4b4fd",
   "metadata": {},
   "outputs": [
    {
     "data": {
      "text/plain": [
       "17"
      ]
     },
     "execution_count": 7,
     "metadata": {},
     "output_type": "execute_result"
    }
   ],
   "source": [
    "(3*4)+5 #Thiis a simple arithmetic expression to multiply \n",
    "#then add integers"
   ]
  },
  {
   "cell_type": "code",
   "execution_count": 8,
   "id": "55b5f643",
   "metadata": {},
   "outputs": [
    {
     "data": {
      "text/plain": [
       "3.3333333333333335"
      ]
     },
     "execution_count": 8,
     "metadata": {},
     "output_type": "execute_result"
    }
   ],
   "source": [
    "200/60.0 #This will convert 200 minutes to hours by dividing by 60."
   ]
  },
  {
   "cell_type": "markdown",
   "id": "bc72e1ec",
   "metadata": {},
   "source": [
    "## Author\n",
    "Name: Mukesh Mehata"
   ]
  },
  {
   "cell_type": "code",
   "execution_count": null,
   "id": "e456c1da",
   "metadata": {},
   "outputs": [],
   "source": []
  }
 ],
 "metadata": {
  "kernelspec": {
   "display_name": "Python 3 (ipykernel)",
   "language": "python",
   "name": "python3"
  },
  "language_info": {
   "codemirror_mode": {
    "name": "ipython",
    "version": 3
   },
   "file_extension": ".py",
   "mimetype": "text/x-python",
   "name": "python",
   "nbconvert_exporter": "python",
   "pygments_lexer": "ipython3",
   "version": "3.9.18"
  }
 },
 "nbformat": 4,
 "nbformat_minor": 5
}
